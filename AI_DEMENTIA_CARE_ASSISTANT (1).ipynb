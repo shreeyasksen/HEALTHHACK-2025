{
  "nbformat": 4,
  "nbformat_minor": 0,
  "metadata": {
    "colab": {
      "provenance": []
    },
    "kernelspec": {
      "name": "python3",
      "display_name": "Python 3"
    },
    "language_info": {
      "name": "python"
    }
  },
  "cells": [
    {
      "cell_type": "code",
      "execution_count": null,
      "metadata": {
        "colab": {
          "base_uri": "https://localhost:8080/"
        },
        "id": "YVJj2iW3Ec5t",
        "outputId": "2d7fd65a-4977-42a2-8892-4e989d06bda7"
      },
      "outputs": [
        {
          "output_type": "stream",
          "name": "stdout",
          "text": [
            "Collecting pyttsx3\n",
            "  Downloading pyttsx3-2.98-py3-none-any.whl.metadata (3.8 kB)\n",
            "Collecting SpeechRecognition\n",
            "  Downloading SpeechRecognition-3.14.1-py3-none-any.whl.metadata (31 kB)\n",
            "Requirement already satisfied: typing-extensions in /usr/local/lib/python3.11/dist-packages (from SpeechRecognition) (4.12.2)\n",
            "Downloading pyttsx3-2.98-py3-none-any.whl (34 kB)\n",
            "Downloading SpeechRecognition-3.14.1-py3-none-any.whl (32.9 MB)\n",
            "\u001b[2K   \u001b[91m━━━━━━━━━━━━━━━━━━━━━━━━━━━\u001b[0m\u001b[90m╺\u001b[0m\u001b[90m━━━━━━━━━━━━\u001b[0m \u001b[32m22.4/32.9 MB\u001b[0m \u001b[31m101.6 MB/s\u001b[0m eta \u001b[36m0:00:01\u001b[0mFall detected!\n",
            "\u001b[2K   \u001b[90m━━━━━━━━━━━━━━━━━━━━━━━━━━━━━━━━━━━━━━━━\u001b[0m \u001b[32m32.9/32.9 MB\u001b[0m \u001b[31m35.0 MB/s\u001b[0m eta \u001b[36m0:00:00\u001b[0m\n",
            "\u001b[?25hInstalling collected packages: pyttsx3, SpeechRecognition\n",
            "Successfully installed SpeechRecognition-3.14.1 pyttsx3-2.98\n"
          ]
        }
      ],
      "source": []
    },
    {
      "cell_type": "code",
      "source": [
        "import os\n",
        "import time\n",
        "import platform\n",
        "import random\n",
        "import threading"
      ],
      "metadata": {
        "id": "SYsswUeHnF7c"
      },
      "execution_count": null,
      "outputs": []
    },
    {
      "cell_type": "code",
      "source": [
        "import os\n",
        "\n",
        "def speak(text):\n",
        "    os.system(f\"say '{text}'\")\n",
        "\n",
        "speak(\"Hello! This is a test message.\")\n",
        "\n"
      ],
      "metadata": {
        "id": "98uTqtNLw0qs"
      },
      "execution_count": null,
      "outputs": []
    },
    {
      "cell_type": "code",
      "source": [
        "class DementiaCareAssistant:\n",
        "    def __init__(self):\n",
        "        self.reminders = []\n",
        "        self.os_name = platform.system()  # Detect OS\n",
        "\n",
        "    def speak(self, text):\n",
        "        \"\"\"Speak text using OS-specific commands\"\"\"\n",
        "        if self.os_name == \"Windows\":\n",
        "            os.system(f'powershell -c \"Add-Type –AssemblyName System.Speech; (New-Object System.Speech.Synthesis.SpeechSynthesizer).Speak(\\'{text}\\');\"')\n",
        "        elif self.os_name == \"Darwin\":  # macOS\n",
        "            os.system(f\"say '{text}'\")\n",
        "        elif self.os_name == \"Linux\":\n",
        "            os.system(f\"espeak '{text}'\")\n",
        "\n",
        "    def set_reminder(self, message, delay):\n",
        "        \"\"\"Set a reminder after a delay (in seconds)\"\"\"\n",
        "        self.reminders.append((message, time.time() + delay))\n",
        "        self.speak(f\"Reminder set: {message} in {delay} seconds.\")\n",
        "\n",
        "    def check_reminders(self):\n",
        "        \"\"\"Check and announce reminders\"\"\"\n",
        "        current_time = time.time()\n",
        "        for reminder in self.reminders[:]:  # Iterate over a copy of the list\n",
        "            message, remind_time = reminder\n",
        "            if current_time >= remind_time:\n",
        "                self.speak(f\"Reminder: {message}\")\n",
        "                print(f\"Reminder: {message}\")\n",
        "                self.reminders.remove(reminder)  # Remove from list\n",
        "\n",
        "    def navigate(self, location):\n",
        "        \"\"\"Provide simple navigation instructions\"\"\"\n",
        "        directions = {\n",
        "            \"kitchen\": \"Walk straight and take a left to reach the kitchen.\",\n",
        "            \"bathroom\": \"Go down the hallway and turn right to find the bathroom.\",\n",
        "            \"bedroom\": \"Head towards the end of the hall, and your bedroom is on the left.\",\n",
        "            \"living room\": \"Walk straight, and you will enter the living room.\"\n",
        "        }\n",
        "        response = directions.get(location.lower(), \"I don't know that location.\")\n",
        "        self.speak(response)\n",
        "        return response\n",
        "\n",
        "    def run(self):\n",
        "        \"\"\"Main loop to interact with the user\"\"\"\n",
        "        self.speak(\"Hello! I am your Dementia Care Assistant. How can I help?\")\n",
        "        while True:\n",
        "            user_input = input(\"\\nEnter command (reminder, navigate, exit): \").lower()\n",
        "            if \"reminder\" in user_input:\n",
        "                message = input(\"What should I remind you about? \")\n",
        "                delay = int(input(\"In how many seconds? \"))\n",
        "                self.set_reminder(message, delay)\n",
        "            elif \"navigate\" in user_input:\n",
        "                location = input(\"Where do you want to go? \")\n",
        "                print(self.navigate(location))\n",
        "            elif \"exit\" in user_input:\n",
        "                self.speak(\"Goodbye! Stay safe.\")\n",
        "                break\n",
        "            else:\n",
        "                self.speak(\"Sorry, I didn't understand that.\")\n",
        "\n",
        "            self.check_reminders()  # Keep checking for reminders\n",
        "\n",
        "if __name__ == \"__main__\":\n",
        "    assistant = DementiaCareAssistant()\n",
        "    assistant.run()\n"
      ],
      "metadata": {
        "colab": {
          "base_uri": "https://localhost:8080/"
        },
        "id": "diAZJPYAyRX2",
        "outputId": "7a6aab0c-7e71-4d71-d68d-368f1f570ede"
      },
      "execution_count": null,
      "outputs": [
        {
          "name": "stdout",
          "output_type": "stream",
          "text": [
            "\n",
            "Enter command (reminder, navigate, exit): reminder What should I remind you about? Take your medicine In how many seconds? 10\n",
            "What should I remind you about? taking medicines\n",
            "In how many seconds? 10\n",
            "\n",
            "Enter command (reminder, navigate, exit): Enter command (reminder, navigate, exit): navigate Where do you want to go? kitchen\n",
            "What should I remind you about? going to toilet\n",
            "In how many seconds? 50\n",
            "Reminder: taking medicines\n",
            "\n",
            "Enter command (reminder, navigate, exit): Enter command (reminder, navigate, exit): exit Goodbye! Stay safe.\n",
            "What should I remind you about? Stay safe and have a good sleep \n",
            "In how many seconds? 60\n",
            "\n",
            "Enter command (reminder, navigate, exit): exit\n"
          ]
        }
      ]
    },
    {
      "cell_type": "code",
      "source": [
        "class DementiaCareAssistant:\n",
        "    def __init__(self):\n",
        "        self.reminders = []\n",
        "        self.os_name = platform.system()  # Detect OS\n",
        "        self.is_fall_detected = False  # Flag for fall detection\n",
        "\n",
        "    def speak(self, text):\n",
        "        \"\"\"Speak text using OS-specific commands\"\"\"\n",
        "        if self.os_name == \"Windows\":\n",
        "            os.system(f'powershell -c \"Add-Type –AssemblyName System.Speech; (New-Object System.Speech.Synthesis.SpeechSynthesizer).Speak(\\'{text}\\');\"')\n",
        "        elif self.os_name == \"Darwin\":  # macOS\n",
        "            os.system(f\"say '{text}'\")\n",
        "        elif self.os_name == \"Linux\":\n",
        "            os.system(f\"espeak '{text}'\")\n",
        "\n",
        "    def set_reminder(self, message, delay):\n",
        "        \"\"\"Set a reminder after a delay (in seconds)\"\"\"\n",
        "        self.reminders.append((message, time.time() + delay))\n",
        "        self.speak(f\"Reminder set: {message} in {delay} seconds.\")\n",
        "\n",
        "    def check_reminders(self):\n",
        "        \"\"\"Check and announce reminders\"\"\"\n",
        "        current_time = time.time()\n",
        "        for reminder in self.reminders[:]:  # Iterate over a copy of the list\n",
        "            message, remind_time = reminder\n",
        "            if current_time >= remind_time:\n",
        "                self.speak(f\"Reminder: {message}\")\n",
        "                print(f\"Reminder: {message}\")\n",
        "                self.reminders.remove(reminder)  # Remove from list\n",
        "\n",
        "    def fall_detection(self):\n",
        "        \"\"\"Simulate fall detection\"\"\"\n",
        "        while True:\n",
        "            # Simulate a fall detection event (for demonstration purposes)\n",
        "            fall_event = random.choice([True, False])  # Random fall detection simulation\n",
        "            if fall_event and not self.is_fall_detected:\n",
        "                self.is_fall_detected = True\n",
        "                self.speak(\"Fall detected. Are you okay? Assistance is on the way.\")\n",
        "                print(\"Fall detected!\")\n",
        "                time.sleep(5)  # Delay before resetting the fall detection flag\n",
        "                self.is_fall_detected = False\n",
        "            time.sleep(1)  # Check every second\n",
        "\n",
        "    def navigate(self, location):\n",
        "        \"\"\"Provide simple navigation instructions\"\"\"\n",
        "        directions = {\n",
        "            \"kitchen\": \"Walk straight and take a left to reach the kitchen.\",\n",
        "            \"bathroom\": \"Go down the hallway and turn right to find the bathroom.\",\n",
        "            \"bedroom\": \"Head towards the end of the hall, and your bedroom is on the left.\",\n",
        "            \"living room\": \"Walk straight, and you will enter the living room.\"\n",
        "        }\n",
        "        response = directions.get(location.lower(), \"I don't know that location.\")\n",
        "        self.speak(response)\n",
        "        return response\n",
        "\n",
        "    def run(self):\n",
        "        \"\"\"Main loop to interact with the user\"\"\"\n",
        "        self.speak(\"Hello! I am your Dementia Care Assistant. How can I help?\")\n",
        "        threading.Thread(target=self.fall_detection, daemon=True).start()  # Run fall detection in background\n",
        "\n",
        "        while True:\n",
        "            user_input = input(\"\\nEnter command (reminder, navigate, exit): \").lower()\n",
        "            if \"reminder\" in user_input:\n",
        "                message = input(\"What should I remind you about? \")\n",
        "                delay = int(input(\"In how many seconds? \"))\n",
        "                self.set_reminder(message, delay)\n",
        "            elif \"navigate\" in user_input:\n",
        "                location = input(\"Where do you want to go? \")\n",
        "                print(self.navigate(location))\n",
        "            elif \"exit\" in user_input:\n",
        "                self.speak(\"Goodbye! Stay safe.\")\n",
        "                break\n",
        "            else:\n",
        "                self.speak(\"Sorry, I didn't understand that.\")\n",
        "\n",
        "            self.check_reminders()  # Keep checking for reminders\n",
        "\n",
        "if __name__ == \"__main__\":\n",
        "    assistant = DementiaCareAssistant()\n",
        "    assistant.run()\n"
      ],
      "metadata": {
        "colab": {
          "base_uri": "https://localhost:8080/"
        },
        "id": "wDobhjZzmrab",
        "outputId": "4b7a5ece-7188-4968-df32-f68b96cf138d"
      },
      "execution_count": null,
      "outputs": [
        {
          "name": "stdout",
          "output_type": "stream",
          "text": [
            "Fall detected!\n",
            "Fall detected!\n",
            "Fall detected!\n",
            "Fall detected!\n",
            "\n",
            "Enter command (reminder, navigate, exit): check there is a steep ahead \n",
            "Fall detected!\n",
            "Fall detected!\n",
            "Fall detected!\n",
            "\n",
            "Enter command (reminder, navigate, exit): go slightly left and walk straight \n",
            "Fall detected!\n",
            "Fall detected!\n",
            "Fall detected!\n",
            "Fall detected!\n",
            "\n",
            "Enter command (reminder, navigate, exit): yay super you have avoided the obstacle \n",
            "\n",
            "Enter command (reminder, navigate, exit): exit\n"
          ]
        }
      ]
    }
  ]
}